{
 "cells": [
  {
   "cell_type": "code",
   "execution_count": 1,
   "metadata": {},
   "outputs": [],
   "source": [
    "#ref : https://github.com/yangyanli/PointCNN/blob/master/train_val_cls.py"
   ]
  },
  {
   "cell_type": "code",
   "execution_count": 2,
   "metadata": {},
   "outputs": [
    {
     "name": "stderr",
     "output_type": "stream",
     "text": [
      "/root/anaconda3/envs/tf1.4_gpu/lib/python3.6/importlib/_bootstrap.py:219: RuntimeWarning: compiletime version 3.5 of module 'tensorflow.python.framework.fast_tensor_util' does not match runtime version 3.6\n",
      "  return f(*args, **kwds)\n",
      "/root/anaconda3/envs/tf1.4_gpu/lib/python3.6/site-packages/h5py/__init__.py:36: FutureWarning: Conversion of the second argument of issubdtype from `float` to `np.floating` is deprecated. In future, it will be treated as `np.float64 == np.dtype(float).type`.\n",
      "  from ._conv import register_converters as _register_converters\n"
     ]
    }
   ],
   "source": [
    "from __future__ import absolute_import\n",
    "from __future__ import division\n",
    "from __future__ import print_function\n",
    "\n",
    "import os\n",
    "import sys\n",
    "import math\n",
    "import random\n",
    "import shutil\n",
    "import argparse\n",
    "import importlib\n",
    "import numpy as np\n",
    "import pointfly as pf\n",
    "import tensorflow as tf\n",
    "from datetime import datetime"
   ]
  },
  {
   "cell_type": "markdown",
   "metadata": {},
   "source": [
    "### start the main()"
   ]
  },
  {
   "cell_type": "code",
   "execution_count": null,
   "metadata": {},
   "outputs": [],
   "source": [
    "\"\"\"\n",
    "parser = argparse.ArgumentParser()\n",
    "parser.add_argument('--path', '-t', help='Path to data', required=True)\n",
    "parser.add_argument('--path_val', '-v', help='Path to validation data')\n",
    "parser.add_argument('--load_ckpt', '-l', help='Path to a check point file for load')\n",
    "parser.add_argument('--save_folder', '-s', help='Path to folder for saving check points and summary', required=True)\n",
    "parser.add_argument('--model', '-m', help='Model to use', required=True)\n",
    "parser.add_argument('--setting', '-x', help='Setting to use', required=True)\n",
    "args = parser.parse_args()\n",
    "\"\"\"\n",
    "\n",
    "\"\"\"\n",
    "time_string = datetime.now().strftime('%Y-%m-%d-%H-%M-%S')\n",
    "root_folder = os.path.join(args.save_folder, '%s_%s_%d_%s' % (args.model, args.setting, os.getpid(), time_string))\n",
    "if not os.path.exists(root_folder):\n",
    "    os.makedirs(root_folder)\n",
    "\"\"\""
   ]
  },
  {
   "cell_type": "code",
   "execution_count": 34,
   "metadata": {},
   "outputs": [],
   "source": [
    "# '-t', help='Path to data', required=True\n",
    "path = \"../data/modelnet/train_files.txt\"\n",
    "\n",
    "# '-v', help='Path to validation data'\n",
    "path_val = \"../data/modelnet/test_files.txt\"\n",
    "\n",
    "# '-l', help='Path to a check point file for load'\n",
    "# load_ckpt = \n",
    " \n",
    "# '-s' : Path to folder for saving check points and summary', required=True\n",
    "save_folder = \"../models/cls\"\n",
    "\n",
    "# '-m', help='Model to use', required=True\n",
    "model_name = \"pointcnn_cls\"\n",
    "\n",
    "# '-x', help='Setting to use', required=True\n",
    "setting_name= \"modelnet_x2_l4\""
   ]
  },
  {
   "cell_type": "code",
   "execution_count": 7,
   "metadata": {},
   "outputs": [],
   "source": [
    "time_string = datetime.now().strftime('%Y-%m-%d-%H-%M-%S')\n",
    "root_folder = os.path.join(save_folder, '%s_%s_%d_%s' % (model, setting, os.getpid(), time_string))"
   ]
  },
  {
   "cell_type": "code",
   "execution_count": 8,
   "metadata": {},
   "outputs": [
    {
     "name": "stdout",
     "output_type": "stream",
     "text": [
      "../models/cls/pointcnn_cls_modelnet_x2_l4_4313_2018-03-30-23-39-21\n"
     ]
    }
   ],
   "source": [
    "print(root_folder)"
   ]
  },
  {
   "cell_type": "code",
   "execution_count": 10,
   "metadata": {},
   "outputs": [],
   "source": [
    "if not os.path.exists(root_folder):\n",
    "    os.makedirs(root_folder)\n",
    "sys.stdout = open(os.path.join(root_folder, 'log.txt'), 'w')"
   ]
  },
  {
   "cell_type": "code",
   "execution_count": 25,
   "metadata": {},
   "outputs": [
    {
     "data": {
      "text/plain": [
       "'pointcnn_cls'"
      ]
     },
     "execution_count": 25,
     "metadata": {},
     "output_type": "execute_result"
    }
   ],
   "source": [
    "model_name"
   ]
  },
  {
   "cell_type": "code",
   "execution_count": 27,
   "metadata": {},
   "outputs": [
    {
     "data": {
      "text/plain": [
       "<module 'modelnet_x2_l4' from '/data/code3/PointCNN_mil/modelnet_x2_l4.py'>"
      ]
     },
     "execution_count": 27,
     "metadata": {},
     "output_type": "execute_result"
    }
   ],
   "source": [
    "importlib.import_module(\"modelnet_x2_l4\")"
   ]
  },
  {
   "cell_type": "code",
   "execution_count": 11,
   "metadata": {},
   "outputs": [],
   "source": [
    "# load the specified model\n",
    "model = importlib.import_module(model)"
   ]
  },
  {
   "cell_type": "code",
   "execution_count": 37,
   "metadata": {},
   "outputs": [],
   "source": [
    "setting_path = \"./pointcnn_cls/\" #os.path.join(os.path.dirname(__file__), model)\n",
    "sys.path.append(setting_path)\n",
    "setting = importlib.import_module(setting_name)"
   ]
  },
  {
   "cell_type": "code",
   "execution_count": null,
   "metadata": {},
   "outputs": [],
   "source": []
  }
 ],
 "metadata": {
  "kernelspec": {
   "display_name": "Python 3",
   "language": "python",
   "name": "python3"
  },
  "language_info": {
   "codemirror_mode": {
    "name": "ipython",
    "version": 3
   },
   "file_extension": ".py",
   "mimetype": "text/x-python",
   "name": "python",
   "nbconvert_exporter": "python",
   "pygments_lexer": "ipython3",
   "version": "3.6.3"
  }
 },
 "nbformat": 4,
 "nbformat_minor": 2
}
